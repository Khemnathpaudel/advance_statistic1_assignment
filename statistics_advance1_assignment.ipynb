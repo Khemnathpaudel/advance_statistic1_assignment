{
  "nbformat": 4,
  "nbformat_minor": 0,
  "metadata": {
    "colab": {
      "provenance": []
    },
    "kernelspec": {
      "name": "python3",
      "display_name": "Python 3"
    },
    "language_info": {
      "name": "python"
    }
  },
  "cells": [
    {
      "cell_type": "code",
      "execution_count": 13,
      "metadata": {
        "id": "mYLUdL0kRGna"
      },
      "outputs": [],
      "source": [
        "#1. Explain the properties of the F-distribution?"
      ]
    },
    {
      "cell_type": "code",
      "source": [
        "# from os import posix_fadvise\n",
        "# #Ans: the properties of the F-distribution are listed below:\n",
        "# used in: ANOVA and variance hypothesis testing\n",
        "# Degrees of freedom: two types- numerator(df1) and denominator(df2)\n",
        "# Shape: Skewed, changes with degrees of freedom\n",
        "# Values:Always positive\n",
        "# Symmetry: Not symmetrical\n",
        "# Purpose: Compare statistical models for significant differences\n"
      ],
      "metadata": {
        "id": "3_5zm7H9Rkwy"
      },
      "execution_count": 14,
      "outputs": []
    },
    {
      "cell_type": "code",
      "source": [
        "#2. In which types of statistical tests is the F-distribution used, and why is it appropriate for these tests?"
      ],
      "metadata": {
        "id": "FvoTCRZgSJ06"
      },
      "execution_count": 15,
      "outputs": []
    },
    {
      "cell_type": "code",
      "source": [
        "# ANOVA(analysis of variance): to compare means of multiple groups.\n",
        "# Regression Analysis: To test the overall significance of the model.\n",
        "# Comparing Variances: To compare variances of two or more samples.\n",
        "#  why F-distribution is appropriate:\n",
        "#  -Because it accounts for the ratio of variances.\n",
        "#  -Its shape changes with different degrees of freedom, making it versatile.\n",
        "#  -Sutiable for testing hypothesis involving variances."
      ],
      "metadata": {
        "id": "2wKYjqK0SJ4i"
      },
      "execution_count": 16,
      "outputs": []
    },
    {
      "cell_type": "code",
      "source": [
        "#3. What are the key assumptions required for conducting an F-test to compare the variances of two populations?"
      ],
      "metadata": {
        "id": "Xwdj-8bfUQ8y"
      },
      "execution_count": 17,
      "outputs": []
    },
    {
      "cell_type": "code",
      "source": [
        "# The key assumptions required for conductiong a F-test to compare the variances of the populations are:\n",
        "# -Independence: The samples must be independent of each other.\n",
        "# -Normality: Each population must be normally distributed.\n",
        "# -Equal Sample Size:Preferably, the sample sizes should be equal\n",
        "# -Ratio of Variances: The ratio of variances should follow an F-distribution if the hypothesis is true."
      ],
      "metadata": {
        "id": "05PhUgeBURAo"
      },
      "execution_count": 18,
      "outputs": []
    },
    {
      "cell_type": "code",
      "source": [
        "#4. What is the purpose of ANOVA, and how does it differ from a t-test?\n"
      ],
      "metadata": {
        "id": "uevCVNOtYk_9"
      },
      "execution_count": 19,
      "outputs": []
    },
    {
      "cell_type": "code",
      "source": [
        "# Ans: Purpose of ANOVA:\n",
        "#  -Compare means of three or more groups.\n",
        "#  -Determine if there are any statistically significant differences.\n",
        "\n",
        "# Purpose of t-test:\n",
        "# -Compare means of two groups.\n",
        "# -Assess if the difference between the two means is statistically significant.\n",
        "\n",
        "# Key differences:\n",
        "# -ANOVA:Used for three or more groups.\n",
        "# -t-test: Used for comparing two groups.\n"
      ],
      "metadata": {
        "id": "NwBhyU7xURD8"
      },
      "execution_count": 20,
      "outputs": []
    },
    {
      "cell_type": "code",
      "source": [
        "#5. Explain when and why you would use a one-way ANOVA instead of multiple t-tests when comparing more than two groups."
      ],
      "metadata": {
        "id": "TppajBEIXgze"
      },
      "execution_count": 21,
      "outputs": []
    },
    {
      "cell_type": "code",
      "source": [
        "# ans: when to use one-way ANOVA:\n",
        "# -Comapring means of three or more groups.\n",
        "\n",
        "# why we use one-way ANOVA:\n",
        "# Controls Type I error:Multiple t-tests increase the risk of false positives.\n",
        "# Efficiency: Easier and more efficient than running multiple t-tests.\n",
        "# Comprehensive:Tests overall effect instead of pairwise comparisons."
      ],
      "metadata": {
        "id": "UTI6I22ZZZCC"
      },
      "execution_count": 22,
      "outputs": []
    },
    {
      "cell_type": "code",
      "source": [
        "#6. Explain how variance is partitioned in ANOVA into between-group variance and within-group variance.\n",
        "# How does this partitioning contribute to the calculation of the F-statistic?"
      ],
      "metadata": {
        "id": "Es2xOwhwXg7N"
      },
      "execution_count": 23,
      "outputs": []
    },
    {
      "cell_type": "code",
      "source": [
        "#Ans: Between-group variance:\n",
        "# -Measures the variation due to the interaction between the groups.\n",
        "# -Calculated as the difference between group means and the overall mean.\n",
        "\n",
        "# Within-group variance:\n",
        "# -Measures the variantion within each group.\n",
        "# -Calculated as the difference between individual observations and their group mean.\n",
        "\n",
        "# Contribution of F-statistic:\n",
        "# -F-statistic is the ratio of between-group vairance to within-group vairance.\n",
        "# -Higher F-value indicates greater varaince among group means relative to within-group variance,\n",
        "# suggesting a significant difference between groups.\n"
      ],
      "metadata": {
        "id": "LaXLhslvay8J"
      },
      "execution_count": 24,
      "outputs": []
    },
    {
      "cell_type": "code",
      "source": [
        "#7. Compare the classical (frequentist) approach to ANOVA with the Bayesian approach. What are the key\n",
        "# differences in terms of how they handle uncertainty, parameter estimation, and hypothesis testing?"
      ],
      "metadata": {
        "id": "_QBWWAeqay_L"
      },
      "execution_count": 25,
      "outputs": []
    },
    {
      "cell_type": "code",
      "source": [
        "# Ans: Classical (Frequentist) Approach:\n",
        "# -uncertainty: Relies on long-run frequencies of events.\n",
        "# -parameter estimation: uses point estimates (mean) and confidence intervals.\n",
        "# -hypothesis testing: tests null hypothesis with p-values.\n",
        "\n",
        "# Bayesian Approach:\n",
        "# -Uncertainity: Uses probability distributions to represent uncertainty.\n",
        "# -Parameter Estimation: Provides a range of estimates with credible intervals.\n",
        "# -Hypothesis Testing: Tests hypotheses using probabilities."
      ],
      "metadata": {
        "id": "78Vv4ImqazDU"
      },
      "execution_count": 26,
      "outputs": []
    },
    {
      "cell_type": "code",
      "source": [
        "# 8. Question: You have two sets of data representing the incomes of two different professions1\n",
        "# V Profession A: [48, 52, 55, 60, 62'\n",
        "# V Profession B: [45, 50, 55, 52, 47] Perform an F-test to determine if the variances of the two professions'\n",
        "# incomes are equal. What are your conclusions based on the F-test?\n",
        "# Task: Use Python to calculate the F-statistic and p-value for the given data.\n",
        "# Objective: Gain experience in performing F-tests and interpreting the results in terms of variance comparison"
      ],
      "metadata": {
        "id": "_ledHSVfgUV_"
      },
      "execution_count": 27,
      "outputs": []
    },
    {
      "cell_type": "code",
      "source": [
        "#ans: performing f-test\n",
        "import scipy.stats as stats\n",
        "\n",
        "# Data for Profession A and B\n",
        "profession_a = [48, 52, 55, 60, 62]\n",
        "profession_b = [45, 50, 55, 52, 47]\n",
        "\n",
        "# Calculate F-statistic and p-value\n",
        "f_statistic, p_value = stats.f_oneway(profession_a, profession_b)\n",
        "\n",
        "print(f\"F-statistic: {f_statistic}\")\n",
        "print(f\"P-value: {p_value}\")\n"
      ],
      "metadata": {
        "colab": {
          "base_uri": "https://localhost:8080/"
        },
        "id": "OWsizsGegUs-",
        "outputId": "1b46d0ca-2365-4dc1-a588-20225e0c86c9"
      },
      "execution_count": 28,
      "outputs": [
        {
          "output_type": "stream",
          "name": "stdout",
          "text": [
            "F-statistic: 3.232989690721649\n",
            "P-value: 0.10987970118946545\n"
          ]
        }
      ]
    },
    {
      "cell_type": "code",
      "source": [
        "# Interpretation:\n",
        "# -F-statistic: This tells us how much the variances differ between the two groups.\n",
        "# -p-value: if the p-vale is less than 0.05, we reject the null hypothesis and conclude that there is a significant\n",
        "# difference between the varainces of the two professions."
      ],
      "metadata": {
        "id": "Sp4IrjBHazHt"
      },
      "execution_count": 29,
      "outputs": []
    },
    {
      "cell_type": "code",
      "source": [
        "# 9. Question: Conduct a one-way ANOVA to test whether there are any statistically significant differences in\n",
        "# average heights between three different regions with the following data1\n",
        "# V Region A: [160, 162, 165, 158, 164'\n",
        "# V Region B: [172, 175, 170, 168, 174'\n",
        "# V Region C: [180, 182, 179, 185, 183'\n",
        "# V Task: Write Python code to perform the one-way ANOVA and interpret the results\n",
        "# V Objective: Learn how to perform one-way ANOVA using Python and interpret F-statistic and p-value"
      ],
      "metadata": {
        "id": "wFfBNlL9hAku"
      },
      "execution_count": 30,
      "outputs": []
    },
    {
      "cell_type": "code",
      "source": [
        "# ans: one way ANOVA:\n",
        "import scipy.stats as stats\n",
        "\n",
        "# Data for Region A, B, and C\n",
        "region_a = [160, 162, 165, 158, 164]\n",
        "region_b = [172, 175, 170, 168, 174]\n",
        "region_c = [180, 182, 179, 185, 183]\n",
        "\n",
        "# Calculate F-statistic and p-value\n",
        "f_statistic, p_value = stats.f_oneway(region_a, region_b, region_c)\n",
        "\n",
        "print(f\"F-statistic: {f_statistic}\")\n",
        "print(f\"P-value: {p_value}\")\n"
      ],
      "metadata": {
        "colab": {
          "base_uri": "https://localhost:8080/"
        },
        "id": "Et3OUSbRh4iO",
        "outputId": "666bc64f-fe7f-40e5-aa38-d19293409c79"
      },
      "execution_count": 31,
      "outputs": [
        {
          "output_type": "stream",
          "name": "stdout",
          "text": [
            "F-statistic: 67.87330316742101\n",
            "P-value: 2.870664187937026e-07\n"
          ]
        }
      ]
    },
    {
      "cell_type": "code",
      "source": [
        "# Interpretation:\n",
        "# f-statistic: This tells us the ratio of the varaince between the groups to the varaince within the groups.\n",
        "# p-value: if the p-value is less than 0.05, we reject the null hypothesis and conclude that there is a statistically significant\n",
        "# difference in average heights between the regions."
      ],
      "metadata": {
        "id": "8WburgFViGDW"
      },
      "execution_count": 32,
      "outputs": []
    },
    {
      "cell_type": "code",
      "source": [],
      "metadata": {
        "id": "deGIX2WliLp6"
      },
      "execution_count": 32,
      "outputs": []
    },
    {
      "cell_type": "code",
      "source": [],
      "metadata": {
        "id": "phg7Sag4iLtn"
      },
      "execution_count": 32,
      "outputs": []
    }
  ]
}